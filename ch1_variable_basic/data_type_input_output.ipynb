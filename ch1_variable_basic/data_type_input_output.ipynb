{
 "cells": [
  {
   "cell_type": "code",
   "execution_count": 5,
   "metadata": {},
   "outputs": [
    {
     "name": "stdout",
     "output_type": "stream",
     "text": [
      "기본 출력방식 이름 :  서청빈 나이:  (20,) 키 :  170.222\n",
      "이름 : 서청빈 \n",
      "나이 : 20 \n",
      "키 : 170.222000\n"
     ]
    }
   ],
   "source": [
    "name = \"서청빈\"\n",
    "age = 20\n",
    "height = 170.222\n",
    "#기본출력1\n",
    "print(\"기본 출력방식\",  \"이름 : \" , name, \"나이: \", age ,  \"키 : \", height)\n",
    "#기본출력2\n",
    "print(\"이름 : %s \" %(name))\n",
    "print(\"나이 : %d \" %(age))\n",
    "print(\"키 : %f\" %(height))\n",
    "#기본출력3\n",
    "print(f\"이름: {name}, 나이:{age}, ㅁ키 :{height}\")\n",
    "#안드로이드버전, 코틀린 출력 : Log.d(\"scb\", \"이름:%{name}\")"
   ]
  },
  {
   "cell_type": "code",
   "execution_count": 10,
   "metadata": {},
   "outputs": [
    {
     "name": "stdout",
     "output_type": "stream",
     "text": [
      "a의 타입 의 결과(함수 type 사용 : <class 'str'>\n",
      "b의 타입의 결과 (함수 type 사용) : <class 'int'>\n",
      "c의 타입의 결과 (함수 type 사용) : <class 'str'>\n"
     ]
    }
   ],
   "source": [
    "#정수, 실수, 문자열 각 각 변환 및 입력 받아보기\n",
    "num1 = 20\n",
    "str1 = \"scb\"\n",
    "str2 = 12345\n",
    "flo1 = 12.123\n",
    "#정수, 문자열 변환\n",
    "a = str(num1)\n",
    "print(f\"a의 타입 의 결과(함수 type 사용 : {type(a)}\")\n",
    "#문자열 정수 변환 , int()\n",
    "b = int(str2)\n",
    "print(f\"b의 타입의 결과 (함수 type 사용) : {type(b)}\")\n",
    "\n",
    "#input(), 표준입력 결과 타입은 : 문자열\n",
    "#필요시, 해당 값을 정수 등 변환해서 사용하면 됨\n",
    "c = input(\"본인이 좋아하는 숫자 (1~5) 중에 선택해주세요\")\n",
    "print(f\"c의 타입의 결과 (함수 type 사용) : {type(c)}\")\n"
   ]
  },
  {
   "cell_type": "markdown",
   "metadata": {},
   "source": [
    "\n",
    "기본 변수들 할당 및 변환 기본 입력, 출력 테스트, 연습장"
   ]
  }
 ],
 "metadata": {
  "kernelspec": {
   "display_name": "base",
   "language": "python",
   "name": "python3"
  },
  "language_info": {
   "codemirror_mode": {
    "name": "ipython",
    "version": 3
   },
   "file_extension": ".py",
   "mimetype": "text/x-python",
   "name": "python",
   "nbconvert_exporter": "python",
   "pygments_lexer": "ipython3",
   "version": "3.8.8"
  }
 },
 "nbformat": 4,
 "nbformat_minor": 2
}
