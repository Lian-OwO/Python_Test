{
 "cells": [
  {
   "cell_type": "code",
   "execution_count": 3,
   "metadata": {},
   "outputs": [
    {
     "name": "stdout",
     "output_type": "stream",
     "text": [
      "리스트 출력해보기 : [1, 2, 3, 4, 5, '서청빈']\n",
      "alist 의 타입 :  <class 'list'>\n",
      "a의 타입 : <class 'int'>\n",
      "인덱싱 : 0번쨰요소 : 1\n"
     ]
    }
   ],
   "source": [
    "#리스트, 주의, 다른 행끼리 가능\n",
    "#파이썬에서 모든타입이 기본적으로 객체임\n",
    "alist = [1,2,3,4,5,\"서청빈\"]\n",
    "print(f\"리스트 출력해보기 : {alist}\" )\n",
    "print(f\"alist 의 타입 :  {type(alist)}\")\n",
    "a = 3\n",
    "print(f\"a의 타입 : {type(a)}\")\n",
    "\n",
    "#인덱싱, 슬라이싱[a:b:c], a:시작값, b: 마지막값, c:증가값\n",
    "#b 마지막은 값은 포함이 앋뇜\n",
    "#리버스 인덱싱, 요소의 맨 마지막이 -1부터 시작.\n",
    "print(f\"인덱싱 : 0번쨰요소 : {alist[0]}\")"
   ]
  },
  {
   "cell_type": "code",
   "execution_count": null,
   "metadata": {},
   "outputs": [],
   "source": []
  }
 ],
 "metadata": {
  "kernelspec": {
   "display_name": "base",
   "language": "python",
   "name": "python3"
  },
  "language_info": {
   "codemirror_mode": {
    "name": "ipython",
    "version": 3
   },
   "file_extension": ".py",
   "mimetype": "text/x-python",
   "name": "python",
   "nbconvert_exporter": "python",
   "pygments_lexer": "ipython3",
   "version": "3.8.8"
  }
 },
 "nbformat": 4,
 "nbformat_minor": 2
}
